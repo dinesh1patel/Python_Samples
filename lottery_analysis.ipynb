{
 "cells": [
  {
   "cell_type": "code",
   "execution_count": null,
   "id": "6699d9ea",
   "metadata": {},
   "outputs": [],
   "source": [
    "import pandas as pd\n",
    "import matplotlib.pyplot as plt\n",
    "from scipy.stats import linregress\n",
    "\n",
    "dataframe = pd.read_csv(\"scottish_hills.csv\")\n",
    "\n",
    "x = dataframe.Height\n",
    "y = dataframe.Latitude\n",
    "\n",
    "stats = linregress(x, y)\n",
    "\n",
    "m = stats.slope\n",
    "b = stats.intercept\n",
    "\n",
    "plt.scatter(x, y)\n",
    "plt.plot(x, m * x + b, color=\"red\")   # I've added a color argument here\n",
    "\n",
    "#plt.savefig(\"figure.png\")\n",
    "# Or you can use plt.show()\n",
    "plt.show()"
   ]
  },
  {
   "cell_type": "code",
   "execution_count": null,
   "id": "2d025337",
   "metadata": {},
   "outputs": [],
   "source": [
    "import pandas as pd\n",
    "import matplotlib.pyplot as plt\n",
    "from scipy.stats import linregress\n",
    "\n",
    "dataframe = pd.read_csv(\"scottish_hills.csv\")\n",
    "\n",
    "x = dataframe.Height\n",
    "y = dataframe.Latitude\n",
    "\n",
    "stats = linregress(x, y)\n",
    "\n",
    "m = stats.slope\n",
    "b = stats.intercept\n",
    "\n",
    "# Change the default figure size\n",
    "plt.figure(figsize=(10,10))\n",
    "\n",
    "# Change the default marker for the scatter from circles to x's\n",
    "plt.scatter(x, y, marker='x')\n",
    "\n",
    "# Set the linewidth on the regression line to 3px\n",
    "plt.plot(x, m * x + b, color=\"red\", linewidth=3)\n",
    "\n",
    "# Add x and y lables, and set their font size\n",
    "plt.xlabel(\"Height (m)\", fontsize=20)\n",
    "plt.ylabel(\"Latitude\", fontsize=20)\n",
    "\n",
    "# Set the font size of the number lables on the axes\n",
    "plt.xticks(fontsize=18)\n",
    "plt.yticks(fontsize=18)\n",
    "\n",
    "#plt.savefig(\"python-linear-reg-custom.png\")\n",
    "plt.show()"
   ]
  },
  {
   "cell_type": "code",
   "execution_count": null,
   "id": "f6f2c706",
   "metadata": {},
   "outputs": [],
   "source": [
    "import cartopy.crs as ccrs\n",
    "from cartopy.mpl.ticker import LongitudeFormatter, LatitudeFormatter\n",
    "import cartopy.feature as cfeature\n",
    "\n",
    "plt.figure(figsize=(20,10))\n",
    "ax = plt.axes(projection=ccrs.Mercator())\n",
    "ax.coastlines('10m')\n",
    "\n",
    "ax.xaxis.set_visible(True)\n",
    "ax.yaxis.set_visible(True)\n",
    "\n",
    "ax.set_yticks([56,57,58,59], crs=ccrs.PlateCarree())\n",
    "ax.set_xticks([-8, -6, -4, -2], crs=ccrs.PlateCarree())\n",
    "\n",
    "lon_formatter = LongitudeFormatter(zero_direction_label=True)\n",
    "lat_formatter = LatitudeFormatter()\n",
    "\n",
    "ax.xaxis.set_major_formatter(lon_formatter)\n",
    "ax.yaxis.set_major_formatter(lat_formatter)\n",
    "\n",
    "ax.set_extent([-8, -1.5, 55.3, 59])\n",
    "\n",
    "plt.scatter(dataframe['Longitude'],dataframe['Latitude'],\n",
    "                    color='red', marker='^', transform=ccrs.PlateCarree())\n",
    "plt.savefig(\"munros.png\")"
   ]
  },
  {
   "cell_type": "code",
   "execution_count": null,
   "id": "54f95adc",
   "metadata": {},
   "outputs": [],
   "source": [
    "conda install -c conda-forge cartopy"
   ]
  },
  {
   "cell_type": "code",
   "execution_count": null,
   "id": "08fc79ea",
   "metadata": {},
   "outputs": [],
   "source": [
    "import pandas as pd\n",
    "import numpy as np\n",
    "import seaborn as sns\n",
    "import matplotlib.pyplot as plt\n",
    "%matplotlib inline\n",
    "sns.set(color_codes=True)\n",
    "\n",
    "#load the csv dataset\n",
    "#car = pd.read_csv('scottish_hills.csv')\n",
    "car = pd.read_csv('euromillions-draw-history.csv')"
   ]
  },
  {
   "cell_type": "code",
   "execution_count": null,
   "id": "ffde4eca",
   "metadata": {
    "scrolled": true
   },
   "outputs": [],
   "source": [
    "#Display the head of the dataset\n",
    "car.head()"
   ]
  },
  {
   "cell_type": "code",
   "execution_count": null,
   "id": "e1c2b16a",
   "metadata": {},
   "outputs": [],
   "source": [
    "#Display the bottom 5 rows\n",
    "car.tail(5)"
   ]
  },
  {
   "cell_type": "code",
   "execution_count": null,
   "id": "e1012ea7",
   "metadata": {},
   "outputs": [],
   "source": [
    "#Analytical summary of the dataset\n",
    "car.describe(include='all')"
   ]
  },
  {
   "cell_type": "code",
   "execution_count": null,
   "id": "ed49dade",
   "metadata": {},
   "outputs": [],
   "source": [
    "#Plot a histogram for all the variables\n",
    "car.hist(figsize=(5,10))"
   ]
  },
  {
   "cell_type": "code",
   "execution_count": null,
   "id": "a37f0608",
   "metadata": {
    "scrolled": true
   },
   "outputs": [],
   "source": [
    "sns.pairplot(car)"
   ]
  },
  {
   "cell_type": "code",
   "execution_count": null,
   "id": "918001cc",
   "metadata": {},
   "outputs": [],
   "source": [
    "#Rows containing duplicate daat\n",
    "duplicate_rows_car = car[car.duplicated()]\n",
    "print(\"Number of duplicate rows: \", duplicate_rows_car.shape)"
   ]
  },
  {
   "cell_type": "code",
   "execution_count": null,
   "id": "4ae0d456",
   "metadata": {},
   "outputs": [],
   "source": [
    "country_data = car[\"Ball 1\"]\n",
    "medal_data = car[\"Ball 2\"]\n",
    "colors = [\"#1f77b4\", \"#ff7f0e\", \"#2ca02c\", \"#d62728\", \"#8c564b\"]\n",
    "explode = (0.1, 0, 0, 0, 0)  \n",
    "plt.pie(medal_data, labels=country_data, explode=explode, colors=colors,\n",
    "autopct='%1.1f%%', shadow=True, startangle=140)\n",
    "plt.title(\"Gold medal achievements of five most successful\\n\"+\"countries in 2016 Summer Olympics\")\n",
    "plt.show()"
   ]
  },
  {
   "cell_type": "code",
   "execution_count": null,
   "id": "9213dc3c",
   "metadata": {},
   "outputs": [],
   "source": []
  }
 ],
 "metadata": {
  "kernelspec": {
   "display_name": "Python 3 (ipykernel)",
   "language": "python",
   "name": "python3"
  },
  "language_info": {
   "codemirror_mode": {
    "name": "ipython",
    "version": 3
   },
   "file_extension": ".py",
   "mimetype": "text/x-python",
   "name": "python",
   "nbconvert_exporter": "python",
   "pygments_lexer": "ipython3",
   "version": "3.9.12"
  }
 },
 "nbformat": 4,
 "nbformat_minor": 5
}
